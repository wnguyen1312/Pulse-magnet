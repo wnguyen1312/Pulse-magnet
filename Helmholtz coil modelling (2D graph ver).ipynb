{
 "cells": [
  {
   "cell_type": "markdown",
   "metadata": {},
   "source": [
    "Consider a current $I$ flowing counterclockwise in a circle in the xy-plane. Parameterise this loop in terms of t:\n",
    "$$ x = cos(t), y = sin(t), z = z_0$$ \n",
    "\n",
    "\n",
    "where $0 \\leq t \\leq 2\\pi$ and $z_0$ is the position of the circle in the z axis. The Biot-Savard Law tells us\n",
    "\n",
    "$$\\vec{B}(\\vec{r}) =  \\frac{\\mu_0 I}{4 \\pi} \\int_C \\frac{d\\vec{l} \\times (\\vec{r}-\\vec{l})}{|\\vec{r}-\\vec{l}|^3} = \\int_0^{2 \\pi} \\frac{d\\vec{l}/dt \\times (\\vec{r} - \\vec{l})}{|\\vec{r}-\\vec{l}|^3} dt$$\n",
    "\n",
    "Putting this in dimensionless form \n",
    "\n",
    "* $\\vec{l} \\to \\vec{l}/R$\n",
    "* $\\vec{r} \\to \\vec{r}/R$\n",
    "\n",
    "we get\n",
    "\n",
    "$$\\frac{4 \\pi R}{\\mu_0 I} \\vec{B}(\\vec{r}) = \\int_0^{2 \\pi} \\frac{d\\vec{l}/dt \\times (\\vec{r} - \\vec{l})}{|\\vec{r}-\\vec{l}|^3} dt$$\n",
    "\n",
    "So basically the value of $B$ we get here is actually scaled in terms of the other constant. If we want to compare with the magnet mapper then we can mutiply by reciprocal of the constants on the LHS"
   ]
  },
  {
   "cell_type": "code",
   "execution_count": 1,
   "metadata": {},
   "outputs": [],
   "source": [
    "import numpy as np\n",
    "import matplotlib.pyplot as plt\n",
    "from scipy.integrate import quad\n",
    "import plotly.graph_objects as go\n",
    "from IPython.display import HTML\n",
    "import sympy as smp\n",
    "from sympy.vector import cross\n"
   ]
  },
  {
   "cell_type": "markdown",
   "metadata": {},
   "source": [
    "Start by looking at curve"
   ]
  },
  {
   "cell_type": "code",
   "execution_count": 2,
   "metadata": {},
   "outputs": [
    {
     "data": {
      "text/plain": [
       "'\\ndef l(phi):\\n    return np.array([np.cos(phi), np.sin(phi), (phi-np.pi)/np.pi])\\n    '"
      ]
     },
     "execution_count": 2,
     "metadata": {},
     "output_type": "execute_result"
    }
   ],
   "source": [
    "phi = np.linspace(0, 2*np.pi, 100)\n",
    "\n",
    "def l(phi):\n",
    "    return np.array([np.cos(phi), np.sin(phi), np.zeros(len(phi))+0.5])\n",
    "\n",
    "'''\n",
    "def l(phi):\n",
    "    return np.array([np.cos(phi), np.sin(phi), (phi-np.pi)/np.pi])\n",
    "    '''"
   ]
  },
  {
   "cell_type": "code",
   "execution_count": 3,
   "metadata": {},
   "outputs": [],
   "source": [
    "lx, ly, lz = l(phi)"
   ]
  },
  {
   "cell_type": "code",
   "execution_count": 4,
   "metadata": {},
   "outputs": [
    {
     "data": {
      "image/png": "[encoded data removed]",
      "text/plain": [
       "<Figure size 504x504 with 1 Axes>"
      ]
     },
     "metadata": {
      "needs_background": "light"
     },
     "output_type": "display_data"
    }
   ],
   "source": [
    "plt.figure(figsize=(7,7))\n",
    "plt.plot(lx, ly)\n",
    "plt.xlabel('$x/R$', fontsize=25)\n",
    "plt.ylabel('$y/R$', fontsize=25)\n",
    "plt.show()"
   ]
  },
  {
   "cell_type": "markdown",
   "metadata": {},
   "source": [
    "Lets solve for the integrand using sympy"
   ]
  },
  {
   "cell_type": "code",
   "execution_count": 5,
   "metadata": {},
   "outputs": [],
   "source": [
    "t, x, y, z = smp.symbols('t, x, y, z') #x,y,z are the x y z of the position vector"
   ]
  },
  {
   "cell_type": "markdown",
   "metadata": {},
   "source": [
    "Get $l$, $r$, and the seperation vector $\\vec{r} - \\vec{l}$ for each coil (at z = ±0.5R)"
   ]
  },
  {
   "cell_type": "code",
   "execution_count": 6,
   "metadata": {},
   "outputs": [],
   "source": [
    "l = smp.Matrix([smp.cos(t), smp.sin(t), 0.5]) #symbolic \n",
    "#l = smp.Matrix([smp.cos(t), smp.sin(t), (t-smp.pi)/smp.pi])\n",
    "r = smp.Matrix([x, y, z])\n",
    "sep = r-l #separation vector"
   ]
  },
  {
   "cell_type": "code",
   "execution_count": 7,
   "metadata": {},
   "outputs": [
    {
     "data": {
      "text/latex": [
       "$\\displaystyle \\left[\\begin{matrix}x - \\cos{\\left(t \\right)}\\\\y - \\sin{\\left(t \\right)}\\\\z - 0.5\\end{matrix}\\right]$"
      ],
      "text/plain": [
       "Matrix([\n",
       "[x - cos(t)],\n",
       "[y - sin(t)],\n",
       "[   z - 0.5]])"
      ]
     },
     "execution_count": 7,
     "metadata": {},
     "output_type": "execute_result"
    }
   ],
   "source": [
    "r-l"
   ]
  },
  {
   "cell_type": "markdown",
   "metadata": {},
   "source": [
    "Coil 2"
   ]
  },
  {
   "cell_type": "code",
   "execution_count": 8,
   "metadata": {},
   "outputs": [],
   "source": [
    "l_2 = smp.Matrix([smp.cos(t), smp.sin(t), -0.5]) #symbolic \n",
    "sep_2 = r-l_2 #separation vector"
   ]
  },
  {
   "cell_type": "code",
   "execution_count": 9,
   "metadata": {},
   "outputs": [
    {
     "data": {
      "text/latex": [
       "$\\displaystyle \\left[\\begin{matrix}x - \\cos{\\left(t \\right)}\\\\y - \\sin{\\left(t \\right)}\\\\z + 0.5\\end{matrix}\\right]$"
      ],
      "text/plain": [
       "Matrix([\n",
       "[x - cos(t)],\n",
       "[y - sin(t)],\n",
       "[   z + 0.5]])"
      ]
     },
     "execution_count": 9,
     "metadata": {},
     "output_type": "execute_result"
    }
   ],
   "source": [
    "r-l_2"
   ]
  },
  {
   "cell_type": "markdown",
   "metadata": {},
   "source": [
    "Other coils (close together)"
   ]
  },
  {
   "cell_type": "code",
   "execution_count": 10,
   "metadata": {},
   "outputs": [],
   "source": [
    "l_3 = smp.Matrix([smp.cos(t), smp.sin(t), 0.508]) #symbolic \n",
    "sep_3 = r-l_3 #separation vector"
   ]
  },
  {
   "cell_type": "code",
   "execution_count": 11,
   "metadata": {},
   "outputs": [],
   "source": [
    "l_4 = smp.Matrix([smp.cos(t), smp.sin(t), -0.508]) #symbolic \n",
    "sep_4 = r-l_4 #separation vector"
   ]
  },
  {
   "cell_type": "markdown",
   "metadata": {},
   "source": [
    "Define the integrand for each coil"
   ]
  },
  {
   "cell_type": "code",
   "execution_count": 12,
   "metadata": {},
   "outputs": [],
   "source": [
    "integrand = smp.diff(l, t).cross(sep) / sep.norm()**3"
   ]
  },
  {
   "cell_type": "code",
   "execution_count": 13,
   "metadata": {},
   "outputs": [],
   "source": [
    "integrand_2 =  smp.diff(l_2, t).cross(sep_2) / sep_2.norm()**3"
   ]
  },
  {
   "cell_type": "code",
   "execution_count": 14,
   "metadata": {},
   "outputs": [],
   "source": [
    "integrand_3 =  smp.diff(l_3, t).cross(sep_3) / sep_3.norm()**3"
   ]
  },
  {
   "cell_type": "code",
   "execution_count": 15,
   "metadata": {},
   "outputs": [],
   "source": [
    "integrand_4 =  smp.diff(l_4, t).cross(sep_4) / sep_4.norm()**3"
   ]
  },
  {
   "cell_type": "markdown",
   "metadata": {},
   "source": [
    "Get the $x$, $y$, and $z$ components of the integrand for each coil"
   ]
  },
  {
   "cell_type": "code",
   "execution_count": 16,
   "metadata": {},
   "outputs": [],
   "source": [
    "dBxdt = smp.lambdify([t, x, y, z], integrand[0]) #integrand[0] = x component\n",
    "dBydt = smp.lambdify([t, x, y, z], integrand[1])\n",
    "dBzdt = smp.lambdify([t, x, y, z], integrand[2])"
   ]
  },
  {
   "cell_type": "code",
   "execution_count": 17,
   "metadata": {},
   "outputs": [],
   "source": [
    "dBxdt_2 = smp.lambdify([t, x, y, z], integrand_2[0]) #integrand[0] = x component\n",
    "dBydt_2 = smp.lambdify([t, x, y, z], integrand_2[1])\n",
    "dBzdt_2 = smp.lambdify([t, x, y, z], integrand_2[2])"
   ]
  },
  {
   "cell_type": "code",
   "execution_count": 18,
   "metadata": {},
   "outputs": [],
   "source": [
    "dBxdt_3 = smp.lambdify([t, x, y, z], integrand_3[0]) #integrand[0] = x component\n",
    "dBydt_3 = smp.lambdify([t, x, y, z], integrand_3[1])\n",
    "dBzdt_3 = smp.lambdify([t, x, y, z], integrand_3[2])"
   ]
  },
  {
   "cell_type": "code",
   "execution_count": 19,
   "metadata": {},
   "outputs": [],
   "source": [
    "dBxdt_4 = smp.lambdify([t, x, y, z], integrand_4[0]) #integrand[0] = x component\n",
    "dBydt_4 = smp.lambdify([t, x, y, z], integrand_4[1])\n",
    "dBzdt_4 = smp.lambdify([t, x, y, z], integrand_4[2])"
   ]
  },
  {
   "cell_type": "markdown",
   "metadata": {},
   "source": [
    "Get the magnetic field by performing the integral over each component for each coil"
   ]
  },
  {
   "cell_type": "code",
   "execution_count": 20,
   "metadata": {},
   "outputs": [],
   "source": [
    "def B(x, y, z):\n",
    "    return np.array([quad(dBxdt, 0, 2*np.pi, args=(x, y, z))[0],\n",
    "                     quad(dBydt, 0, 2*np.pi, args=(x, y, z))[0],\n",
    "                     quad(dBzdt, 0, 2*np.pi, args=(x, y, z))[0]]) #[0] is the integral, [1] is uncer\n",
    "\n",
    "#need to add up contribution due to all different t "
   ]
  },
  {
   "cell_type": "code",
   "execution_count": 21,
   "metadata": {},
   "outputs": [],
   "source": [
    "def B_2(x, y, z):\n",
    "    return np.array([quad(dBxdt_2, 0, 2*np.pi, args=(x, y, z))[0],\n",
    "                     quad(dBydt_2, 0, 2*np.pi, args=(x, y, z))[0],\n",
    "                     quad(dBzdt_2, 0, 2*np.pi, args=(x, y, z))[0]]) #[0] is the integral, [1] is uncer\n"
   ]
  },
  {
   "cell_type": "code",
   "execution_count": 22,
   "metadata": {},
   "outputs": [],
   "source": [
    "def B_3(x, y, z):\n",
    "    return np.array([quad(dBxdt_3, 0, 2*np.pi, args=(x, y, z))[0],\n",
    "                     quad(dBydt_3, 0, 2*np.pi, args=(x, y, z))[0],\n",
    "                     quad(dBzdt_3, 0, 2*np.pi, args=(x, y, z))[0]]) #[0] is the integral, [1] is uncer\n"
   ]
  },
  {
   "cell_type": "code",
   "execution_count": 23,
   "metadata": {},
   "outputs": [],
   "source": [
    "def B_4(x, y, z):\n",
    "    return np.array([quad(dBxdt_4, 0, 2*np.pi, args=(x, y, z))[0],\n",
    "                     quad(dBydt_4, 0, 2*np.pi, args=(x, y, z))[0],\n",
    "                     quad(dBzdt_4, 0, 2*np.pi, args=(x, y, z))[0]]) #[0] is the integral, [1] is uncer\n"
   ]
  },
  {
   "cell_type": "markdown",
   "metadata": {},
   "source": [
    "# Plotting B_z vs z for x=y=0. Make more coils using the same method above then use superposition. Since coils are tightly packed, we can just mutiply it by the number of turns."
   ]
  },
  {
   "cell_type": "code",
   "execution_count": 24,
   "metadata": {},
   "outputs": [],
   "source": [
    "#scaling for unit here. Mutiply magnetic field by scale to obtain value in tesla \n",
    "u_0 = 4*np.pi*10**(-7)\n",
    "I = 1\n",
    "R = 12.5/1000\n",
    "scale =u_0*I/(4*np.pi*R)\n"
   ]
  },
  {
   "cell_type": "code",
   "execution_count": 25,
   "metadata": {},
   "outputs": [
    {
     "data": {
      "text/plain": [
       "Text(0.5, 1.0, 'I = 1 A, radius = 12.5 mm, 14 turns each side')"
      ]
     },
     "execution_count": 25,
     "metadata": {},
     "output_type": "execute_result"
    },
    {
     "data": {
      "image/png": "[encoded data removed]",
      "text/plain": [
       "<Figure size 504x360 with 1 Axes>"
      ]
     },
     "metadata": {
      "needs_background": "light"
     },
     "output_type": "display_data"
    }
   ],
   "source": [
    "z_coordinate=np.linspace(-3,3,100)\n",
    "magnetic_field_1 =[] #we will append to this empty list\n",
    "magnetic_field_2=[]\n",
    "magnetic_field_3=[]\n",
    "magnetic_field_4=[]\n",
    "\n",
    "for i in range(len(z_coordinate)):\n",
    "    magnetic_field_1.append(B(0,0,z_coordinate[i])[2]*scale)\n",
    "    magnetic_field_2.append(B_2(0,0,z_coordinate[i])[2]*scale)\n",
    "    magnetic_field_3.append(B_3(0,0,z_coordinate[i])[2]*scale)\n",
    "    magnetic_field_4.append(B_4(0,0,z_coordinate[i])[2]*scale)\n",
    "\n",
    "\n",
    "\n",
    "plt.figure(figsize=(7,5))\n",
    "plt.plot(z_coordinate,magnetic_field_1,label='single coil at z = 0.5R',linestyle='dashed')\n",
    "plt.plot(z_coordinate,magnetic_field_2,label='single coil at z = -0.5R',linestyle='dashed')\n",
    "#plt.plot(z_coordinate,magnetic_field_3,label='coil centered at z = 0.505R',linestyle='dashed')\n",
    "#plt.plot(z_coordinate,magnetic_field_4,label='coil centered at z = -0.505R',linestyle='dashed')\n",
    "\n",
    "\n",
    "\n",
    "magnetic_field_net_1=[]\n",
    "magnetic_field_net_2=[]\n",
    "\n",
    "for j in range(len(magnetic_field_1)):\n",
    "    magnetic_field_net_1.append((magnetic_field_1[j]+magnetic_field_2[j])*14)\n",
    "    #magnetic_field_net_2.append(magnetic_field_1[j]+magnetic_field_2[j]+magnetic_field_3[j]+magnetic_field_4[j])\n",
    "\n",
    "\n",
    "plt.plot(z_coordinate,magnetic_field_net_1,label='14 turns on each side')\n",
    "#plt.plot(z_coordinate,magnetic_field_net_2,label='4 coils. each side slightly separated')\n",
    "\n",
    "#superposition \n",
    "plt.xlabel('z / R',fontsize=25)\n",
    "plt.ylabel(' B_z (T)',fontsize=25)\n",
    "plt.grid()\n",
    "plt.legend()\n",
    "plt.title('I = 1 A, radius = 12.5 mm, 14 turns each side',fontsize=25)"
   ]
  },
  {
   "cell_type": "markdown",
   "metadata": {},
   "source": [
    "# Define the function to calculate field strength"
   ]
  },
  {
   "cell_type": "code",
   "execution_count": 26,
   "metadata": {},
   "outputs": [],
   "source": [
    "def field_strength(B_x,B_y,B_z):\n",
    "    return np.sqrt(B_x**2+B_y**2+B_z**2)\n",
    "\n",
    "\n"
   ]
  },
  {
   "cell_type": "code",
   "execution_count": 27,
   "metadata": {},
   "outputs": [],
   "source": [
    "x = np.linspace(-1, 1, 20) \n",
    "xv, yv= np.meshgrid(x, x) \n"
   ]
  },
  {
   "cell_type": "code",
   "execution_count": null,
   "metadata": {},
   "outputs": [],
   "source": []
  },
  {
   "cell_type": "markdown",
   "metadata": {},
   "source": [
    "# Obtaining the component of the field and finding the field strength on z =0"
   ]
  },
  {
   "cell_type": "markdown",
   "metadata": {},
   "source": [
    "To change which plane you want to look at, change the '0' to whatever number you want in args part of the next cell"
   ]
  },
  {
   "cell_type": "code",
   "execution_count": 28,
   "metadata": {},
   "outputs": [],
   "source": [
    "#Defining the integral for each plane \n",
    "def B_zplane(x,y):\n",
    "    return np.array([quad(dBxdt, 0, 2*np.pi, args=(x, y, 0))[0],\n",
    "                     quad(dBydt, 0, 2*np.pi, args=(x, y, 0))[0],\n",
    "                     quad(dBzdt, 0, 2*np.pi, args=(x, y, 0))[0]]) #for example change 0 --> 1 for z = 1\n",
    "\n",
    "def B_zplane_2(x,y):\n",
    "    return np.array([quad(dBxdt_2, 0, 2*np.pi, args=(x, y, 0))[0],\n",
    "                     quad(dBydt_2, 0, 2*np.pi, args=(x, y, 0))[0],\n",
    "                     quad(dBzdt_2, 0, 2*np.pi, args=(x, y, 0))[0]]) #same here"
   ]
  },
  {
   "cell_type": "code",
   "execution_count": 32,
   "metadata": {},
   "outputs": [
    {
     "name": "stdout",
     "output_type": "stream",
     "text": [
      "[[5.79516267e-06 3.80244079e-06 7.27249179e-07 3.41648062e-06\n",
      "  8.36193975e-06 1.36129848e-05 1.85741234e-05 2.27095494e-05\n",
      "  2.56396520e-05 2.71496046e-05 2.71496046e-05 2.56396520e-05\n",
      "  2.27095494e-05 1.85741234e-05 1.36129848e-05 8.36193975e-06\n",
      "  3.41648062e-06 7.27249179e-07 3.80244079e-06 5.79516267e-06]\n",
      " [3.80244079e-06 2.28836409e-07 4.90920212e-06 1.13848929e-05\n",
      "  1.85741234e-05 2.56396520e-05 3.18230524e-05 3.66365163e-05\n",
      "  3.98690908e-05 4.14792621e-05 4.14792621e-05 3.98690908e-05\n",
      "  3.66365163e-05 3.18230524e-05 2.56396520e-05 1.85741234e-05\n",
      "  1.13848929e-05 4.90920212e-06 2.28836409e-07 3.80244079e-06]\n",
      " [7.27249179e-07 4.90920212e-06 1.24775919e-05 2.12943924e-05\n",
      "  3.02446508e-05 3.82533434e-05 4.46647318e-05 4.92887070e-05\n",
      "  5.22190776e-05 5.36269847e-05 5.36269847e-05 5.22190776e-05\n",
      "  4.92887070e-05 4.46647318e-05 3.82533434e-05 3.02446508e-05\n",
      "  2.12943924e-05 1.24775919e-05 4.90920212e-06 7.27249179e-07]\n",
      " [3.41648062e-06 1.13848929e-05 2.12943924e-05 3.18230524e-05\n",
      "  4.14792621e-05 4.92887070e-05 5.49921375e-05 5.88021243e-05\n",
      "  6.10811275e-05 6.21372284e-05 6.21372284e-05 6.10811275e-05\n",
      "  5.88021243e-05 5.49921375e-05 4.92887070e-05 4.14792621e-05\n",
      "  3.18230524e-05 2.12943924e-05 1.13848929e-05 3.41648062e-06]\n",
      " [8.36193975e-06 1.85741234e-05 3.02446508e-05 4.14792621e-05\n",
      "  5.07717740e-05 5.75822745e-05 6.21372284e-05 6.49608461e-05\n",
      "  6.65532814e-05 6.72632345e-05 6.72632345e-05 6.65532814e-05\n",
      "  6.49608461e-05 6.21372284e-05 5.75822745e-05 5.07717740e-05\n",
      "  4.14792621e-05 3.02446508e-05 1.85741234e-05 8.36193975e-06]\n",
      " [1.36129848e-05 2.56396520e-05 3.82533434e-05 4.92887070e-05\n",
      "  5.75822745e-05 6.31362735e-05 6.65532814e-05 6.85144047e-05\n",
      "  6.95481173e-05 6.99868963e-05 6.99868963e-05 6.95481173e-05\n",
      "  6.85144047e-05 6.65532814e-05 6.31362735e-05 5.75822745e-05\n",
      "  4.92887070e-05 3.82533434e-05 2.56396520e-05 1.36129848e-05]\n",
      " [1.85741234e-05 3.18230524e-05 4.46647318e-05 5.49921375e-05\n",
      "  6.21372284e-05 6.65532814e-05 6.90577877e-05 7.03757530e-05\n",
      "  7.10107063e-05 7.12604911e-05 7.12604911e-05 7.10107063e-05\n",
      "  7.03757530e-05 6.90577877e-05 6.65532814e-05 6.21372284e-05\n",
      "  5.49921375e-05 4.46647318e-05 3.18230524e-05 1.85741234e-05]\n",
      " [2.27095494e-05 3.66365163e-05 4.92887070e-05 5.88021243e-05\n",
      "  6.49608461e-05 6.85144047e-05 7.03757530e-05 7.12604911e-05\n",
      "  7.16342533e-05 7.17621329e-05 7.17621329e-05 7.16342533e-05\n",
      "  7.12604911e-05 7.03757530e-05 6.85144047e-05 6.49608461e-05\n",
      "  5.88021243e-05 4.92887070e-05 3.66365163e-05 2.27095494e-05]\n",
      " [2.56396520e-05 3.98690908e-05 5.22190776e-05 6.10811275e-05\n",
      "  6.65532814e-05 6.95481173e-05 7.10107063e-05 7.16342533e-05\n",
      "  7.18532852e-05 7.19096504e-05 7.19096504e-05 7.18532852e-05\n",
      "  7.16342533e-05 7.10107063e-05 6.95481173e-05 6.65532814e-05\n",
      "  6.10811275e-05 5.22190776e-05 3.98690908e-05 2.56396520e-05]\n",
      " [2.71496046e-05 4.14792621e-05 5.36269847e-05 6.21372284e-05\n",
      "  6.72632345e-05 6.99868963e-05 7.12604911e-05 7.17621329e-05\n",
      "  7.19096504e-05 7.19331442e-05 7.19331442e-05 7.19096504e-05\n",
      "  7.17621329e-05 7.12604911e-05 6.99868963e-05 6.72632345e-05\n",
      "  6.21372284e-05 5.36269847e-05 4.14792621e-05 2.71496046e-05]\n",
      " [2.71496046e-05 4.14792621e-05 5.36269847e-05 6.21372284e-05\n",
      "  6.72632345e-05 6.99868963e-05 7.12604911e-05 7.17621329e-05\n",
      "  7.19096504e-05 7.19331442e-05 7.19331442e-05 7.19096504e-05\n",
      "  7.17621329e-05 7.12604911e-05 6.99868963e-05 6.72632345e-05\n",
      "  6.21372284e-05 5.36269847e-05 4.14792621e-05 2.71496046e-05]\n",
      " [2.56396520e-05 3.98690908e-05 5.22190776e-05 6.10811275e-05\n",
      "  6.65532814e-05 6.95481173e-05 7.10107063e-05 7.16342533e-05\n",
      "  7.18532852e-05 7.19096504e-05 7.19096504e-05 7.18532852e-05\n",
      "  7.16342533e-05 7.10107063e-05 6.95481173e-05 6.65532814e-05\n",
      "  6.10811275e-05 5.22190776e-05 3.98690908e-05 2.56396520e-05]\n",
      " [2.27095494e-05 3.66365163e-05 4.92887070e-05 5.88021243e-05\n",
      "  6.49608461e-05 6.85144047e-05 7.03757530e-05 7.12604911e-05\n",
      "  7.16342533e-05 7.17621329e-05 7.17621329e-05 7.16342533e-05\n",
      "  7.12604911e-05 7.03757530e-05 6.85144047e-05 6.49608461e-05\n",
      "  5.88021243e-05 4.92887070e-05 3.66365163e-05 2.27095494e-05]\n",
      " [1.85741234e-05 3.18230524e-05 4.46647318e-05 5.49921375e-05\n",
      "  6.21372284e-05 6.65532814e-05 6.90577877e-05 7.03757530e-05\n",
      "  7.10107063e-05 7.12604911e-05 7.12604911e-05 7.10107063e-05\n",
      "  7.03757530e-05 6.90577877e-05 6.65532814e-05 6.21372284e-05\n",
      "  5.49921375e-05 4.46647318e-05 3.18230524e-05 1.85741234e-05]\n",
      " [1.36129848e-05 2.56396520e-05 3.82533434e-05 4.92887070e-05\n",
      "  5.75822745e-05 6.31362735e-05 6.65532814e-05 6.85144047e-05\n",
      "  6.95481173e-05 6.99868963e-05 6.99868963e-05 6.95481173e-05\n",
      "  6.85144047e-05 6.65532814e-05 6.31362735e-05 5.75822745e-05\n",
      "  4.92887070e-05 3.82533434e-05 2.56396520e-05 1.36129848e-05]\n",
      " [8.36193975e-06 1.85741234e-05 3.02446508e-05 4.14792621e-05\n",
      "  5.07717740e-05 5.75822745e-05 6.21372284e-05 6.49608461e-05\n",
      "  6.65532814e-05 6.72632345e-05 6.72632345e-05 6.65532814e-05\n",
      "  6.49608461e-05 6.21372284e-05 5.75822745e-05 5.07717740e-05\n",
      "  4.14792621e-05 3.02446508e-05 1.85741234e-05 8.36193975e-06]\n",
      " [3.41648062e-06 1.13848929e-05 2.12943924e-05 3.18230524e-05\n",
      "  4.14792621e-05 4.92887070e-05 5.49921375e-05 5.88021243e-05\n",
      "  6.10811275e-05 6.21372284e-05 6.21372284e-05 6.10811275e-05\n",
      "  5.88021243e-05 5.49921375e-05 4.92887070e-05 4.14792621e-05\n",
      "  3.18230524e-05 2.12943924e-05 1.13848929e-05 3.41648062e-06]\n",
      " [7.27249179e-07 4.90920212e-06 1.24775919e-05 2.12943924e-05\n",
      "  3.02446508e-05 3.82533434e-05 4.46647318e-05 4.92887070e-05\n",
      "  5.22190776e-05 5.36269847e-05 5.36269847e-05 5.22190776e-05\n",
      "  4.92887070e-05 4.46647318e-05 3.82533434e-05 3.02446508e-05\n",
      "  2.12943924e-05 1.24775919e-05 4.90920212e-06 7.27249179e-07]\n",
      " [3.80244079e-06 2.28836409e-07 4.90920212e-06 1.13848929e-05\n",
      "  1.85741234e-05 2.56396520e-05 3.18230524e-05 3.66365163e-05\n",
      "  3.98690908e-05 4.14792621e-05 4.14792621e-05 3.98690908e-05\n",
      "  3.66365163e-05 3.18230524e-05 2.56396520e-05 1.85741234e-05\n",
      "  1.13848929e-05 4.90920212e-06 2.28836409e-07 3.80244079e-06]\n",
      " [5.79516267e-06 3.80244079e-06 7.27249179e-07 3.41648062e-06\n",
      "  8.36193975e-06 1.36129848e-05 1.85741234e-05 2.27095494e-05\n",
      "  2.56396520e-05 2.71496046e-05 2.71496046e-05 2.56396520e-05\n",
      "  2.27095494e-05 1.85741234e-05 1.36129848e-05 8.36193975e-06\n",
      "  3.41648062e-06 7.27249179e-07 3.80244079e-06 5.79516267e-06]]\n"
     ]
    }
   ],
   "source": [
    "B_field = np.vectorize(B_zplane, signature='(),()->(n)')(xv, yv)\n",
    "B_field_2 = np.vectorize(B_zplane_2, signature='(),()->(n)')(xv, yv)\n",
    "\n",
    "Bx =(B_field[:,:,0]+B_field_2[:,:,0])*scale \n",
    "By = (B_field[:,:,1]+B_field_2[:,:,1])*scale\n",
    "Bz = (B_field[:,:,2]+B_field_2[:,:,2])*scale\n",
    "field_magnitude = field_strength(Bx,By,Bz) #unit in tesla\n",
    "print(field_magnitude)"
   ]
  },
  {
   "cell_type": "markdown",
   "metadata": {},
   "source": [
    "# Contour plot using matplotlib"
   ]
  },
  {
   "cell_type": "code",
   "execution_count": 37,
   "metadata": {},
   "outputs": [
    {
     "data": {
      "image/png": "[encoded data removed]",
      "text/plain": [
       "<Figure size 432x432 with 2 Axes>"
      ]
     },
     "metadata": {
      "needs_background": "light"
     },
     "output_type": "display_data"
    }
   ],
   "source": [
    "from matplotlib import ticker, cm\n",
    "fig, ax = plt.subplots(figsize=(6,6))\n",
    "cs = ax.contourf(xv, yv, field_magnitude*14) #14 turns each side\n",
    "cbar = fig.colorbar(cs)\n",
    "\n",
    "plt.xlabel('x / R',fontsize=13)\n",
    "plt.ylabel('y / R',fontsize=13)\n",
    "plt.title('Magnetic field strength on the plane z =0',fontsize=13)\n",
    "plt.savefig('1.png',dpi=500)\n",
    "\n",
    "#so 1000 A from the disc"
   ]
  },
  {
   "cell_type": "code",
   "execution_count": null,
   "metadata": {},
   "outputs": [],
   "source": []
  },
  {
   "cell_type": "markdown",
   "metadata": {},
   "source": []
  },
  {
   "cell_type": "code",
   "execution_count": null,
   "metadata": {},
   "outputs": [],
   "source": []
  },
  {
   "cell_type": "code",
   "execution_count": null,
   "metadata": {},
   "outputs": [],
   "source": []
  },
  {
   "cell_type": "code",
   "execution_count": null,
   "metadata": {},
   "outputs": [],
   "source": []
  },
  {
   "cell_type": "markdown",
   "metadata": {},
   "source": []
  },
  {
   "cell_type": "code",
   "execution_count": null,
   "metadata": {},
   "outputs": [],
   "source": []
  },
  {
   "cell_type": "code",
   "execution_count": null,
   "metadata": {},
   "outputs": [],
   "source": []
  },
  {
   "cell_type": "code",
   "execution_count": null,
   "metadata": {},
   "outputs": [],
   "source": []
  },
  {
   "cell_type": "code",
   "execution_count": null,
   "metadata": {},
   "outputs": [],
   "source": []
  }
 ],
 "metadata": {
  "kernelspec": {
   "display_name": "Python 3 (ipykernel)",
   "language": "python",
   "name": "python3"
  },
  "language_info": {
   "codemirror_mode": {
    "name": "ipython",
    "version": 3
   },
   "file_extension": ".py",
   "mimetype": "text/x-python",
   "name": "python",
   "nbconvert_exporter": "python",
   "pygments_lexer": "ipython3",
   "version": "3.9.7"
  }
 },
 "nbformat": 4,
 "nbformat_minor": 4
}
